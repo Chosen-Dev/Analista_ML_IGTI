{
  "nbformat": 4,
  "nbformat_minor": 0,
  "metadata": {
    "colab": {
      "name": "tratamento_de_Palavras_e_BOW",
      "provenance": [],
      "collapsed_sections": []
    },
    "kernelspec": {
      "name": "python3",
      "display_name": "Python 3"
    }
  },
  "cells": [
    {
      "cell_type": "code",
      "metadata": {
        "id": "mvW7M-HVo1AY",
        "colab_type": "code",
        "colab": {
          "base_uri": "https://localhost:8080/",
          "height": 85
        },
        "outputId": "0e684d0c-08a5-4659-c20f-ad5943a35c8f"
      },
      "source": [
        "#gerando StopWords \n",
        "import nltk #biblioteca para a analise de textos \n",
        "import numpy as np \n",
        "nltk.download ('stopwords')\n",
        "nltk.download ('punkt')\n",
        "from pprint import pprint #biblioteca para realizar o 'print' de forma mais amigavel \"pretty-print \""
      ],
      "execution_count": 1,
      "outputs": [
        {
          "output_type": "stream",
          "text": [
            "[nltk_data] Downloading package stopwords to /root/nltk_data...\n",
            "[nltk_data]   Unzipping corpora/stopwords.zip.\n",
            "[nltk_data] Downloading package punkt to /root/nltk_data...\n",
            "[nltk_data]   Unzipping tokenizers/punkt.zip.\n"
          ],
          "name": "stdout"
        }
      ]
    },
    {
      "cell_type": "code",
      "metadata": {
        "id": "w5f6lDVJqAVY",
        "colab_type": "code",
        "colab": {
          "base_uri": "https://localhost:8080/",
          "height": 425
        },
        "outputId": "3a154b78-5252-4282-c1c0-5e2beabb6756"
      },
      "source": [
        "stopWordPortugues = nltk.corpus.stopwords.words('portuguese')\n",
        "print(np.transpose(stopWordPortugues))"
      ],
      "execution_count": 4,
      "outputs": [
        {
          "output_type": "stream",
          "text": [
            "['de' 'a' 'o' 'que' 'e' 'é' 'do' 'da' 'em' 'um' 'para' 'com' 'não' 'uma'\n",
            " 'os' 'no' 'se' 'na' 'por' 'mais' 'as' 'dos' 'como' 'mas' 'ao' 'ele' 'das'\n",
            " 'à' 'seu' 'sua' 'ou' 'quando' 'muito' 'nos' 'já' 'eu' 'também' 'só'\n",
            " 'pelo' 'pela' 'até' 'isso' 'ela' 'entre' 'depois' 'sem' 'mesmo' 'aos'\n",
            " 'seus' 'quem' 'nas' 'me' 'esse' 'eles' 'você' 'essa' 'num' 'nem' 'suas'\n",
            " 'meu' 'às' 'minha' 'numa' 'pelos' 'elas' 'qual' 'nós' 'lhe' 'deles'\n",
            " 'essas' 'esses' 'pelas' 'este' 'dele' 'tu' 'te' 'vocês' 'vos' 'lhes'\n",
            " 'meus' 'minhas' 'teu' 'tua' 'teus' 'tuas' 'nosso' 'nossa' 'nossos'\n",
            " 'nossas' 'dela' 'delas' 'esta' 'estes' 'estas' 'aquele' 'aquela'\n",
            " 'aqueles' 'aquelas' 'isto' 'aquilo' 'estou' 'está' 'estamos' 'estão'\n",
            " 'estive' 'esteve' 'estivemos' 'estiveram' 'estava' 'estávamos' 'estavam'\n",
            " 'estivera' 'estivéramos' 'esteja' 'estejamos' 'estejam' 'estivesse'\n",
            " 'estivéssemos' 'estivessem' 'estiver' 'estivermos' 'estiverem' 'hei' 'há'\n",
            " 'havemos' 'hão' 'houve' 'houvemos' 'houveram' 'houvera' 'houvéramos'\n",
            " 'haja' 'hajamos' 'hajam' 'houvesse' 'houvéssemos' 'houvessem' 'houver'\n",
            " 'houvermos' 'houverem' 'houverei' 'houverá' 'houveremos' 'houverão'\n",
            " 'houveria' 'houveríamos' 'houveriam' 'sou' 'somos' 'são' 'era' 'éramos'\n",
            " 'eram' 'fui' 'foi' 'fomos' 'foram' 'fora' 'fôramos' 'seja' 'sejamos'\n",
            " 'sejam' 'fosse' 'fôssemos' 'fossem' 'for' 'formos' 'forem' 'serei' 'será'\n",
            " 'seremos' 'serão' 'seria' 'seríamos' 'seriam' 'tenho' 'tem' 'temos' 'tém'\n",
            " 'tinha' 'tínhamos' 'tinham' 'tive' 'teve' 'tivemos' 'tiveram' 'tivera'\n",
            " 'tivéramos' 'tenha' 'tenhamos' 'tenham' 'tivesse' 'tivéssemos' 'tivessem'\n",
            " 'tiver' 'tivermos' 'tiverem' 'terei' 'terá' 'teremos' 'terão' 'teria'\n",
            " 'teríamos' 'teriam']\n"
          ],
          "name": "stdout"
        }
      ]
    },
    {
      "cell_type": "code",
      "metadata": {
        "id": "oBL8U7s8qjde",
        "colab_type": "code",
        "colab": {
          "base_uri": "https://localhost:8080/",
          "height": 68
        },
        "outputId": "cf235dd7-57b1-4472-ca86-680845e1307e"
      },
      "source": [
        "#gerando Tokens de Setenças \n",
        "sample_text= \"\"\" O menino gosta de jogar futebol aos finais de semana.\n",
        "Ele gosta de jogar com seus amigos Marcos e João, mas não gosta de brincar \n",
        "com a irmã Marcela\"\"\"\n",
        "tokenizacao_sentencas=nltk.sent_tokenize\n",
        "sample_sentence = tokenizacao_sentencas(text=sample_text)\n",
        "pprint(sample_sentence)"
      ],
      "execution_count": 7,
      "outputs": [
        {
          "output_type": "stream",
          "text": [
            "[' O menino gosta de jogar futebol aos finais de semana.',\n",
            " 'Ele gosta de jogar com seus amigos Marcos e João, mas não gosta de brincar \\n'\n",
            " 'com a irmã Marcela']\n"
          ],
          "name": "stdout"
        }
      ]
    },
    {
      "cell_type": "code",
      "metadata": {
        "id": "Bl6jjGlkwXz1",
        "colab_type": "code",
        "colab": {
          "base_uri": "https://localhost:8080/",
          "height": 34
        },
        "outputId": "1639e9a2-06cb-4d41-f836-e6985ff18227"
      },
      "source": [
        "len(sample_sentence)"
      ],
      "execution_count": 8,
      "outputs": [
        {
          "output_type": "execute_result",
          "data": {
            "text/plain": [
              "2"
            ]
          },
          "metadata": {
            "tags": []
          },
          "execution_count": 8
        }
      ]
    },
    {
      "cell_type": "code",
      "metadata": {
        "id": "AOVAaQO0wbi3",
        "colab_type": "code",
        "colab": {
          "base_uri": "https://localhost:8080/",
          "height": 204
        },
        "outputId": "6a7355d0-24ea-4dbb-a36f-64133efc3cc5"
      },
      "source": [
        "#tokenização de palavras \n",
        "sample_sentence='O menino gosta de jogar futebol aos finais de semana.'\n",
        "tokenizacao_palavras=nltk.word_tokenize\n",
        "sample_words = tokenizacao_palavras(text=sample_sentence)\n",
        "pprint(sample_words)"
      ],
      "execution_count": 9,
      "outputs": [
        {
          "output_type": "stream",
          "text": [
            "['O',\n",
            " 'menino',\n",
            " 'gosta',\n",
            " 'de',\n",
            " 'jogar',\n",
            " 'futebol',\n",
            " 'aos',\n",
            " 'finais',\n",
            " 'de',\n",
            " 'semana',\n",
            " '.']\n"
          ],
          "name": "stdout"
        }
      ]
    },
    {
      "cell_type": "code",
      "metadata": {
        "id": "_toNO3x4xeGI",
        "colab_type": "code",
        "colab": {
          "base_uri": "https://localhost:8080/",
          "height": 68
        },
        "outputId": "28da4c3c-9b2f-4f7d-92a4-b29957ab3538"
      },
      "source": [
        "#gerando as amostras de stem\n",
        "from nltk.stem import PorterStemmer #stemização baseado no algoritmo de Porter\n",
        "from nltk.stem import  RSLPStemmer #stemização para o Português \n",
        "nltk.download('rslp')"
      ],
      "execution_count": 10,
      "outputs": [
        {
          "output_type": "stream",
          "text": [
            "[nltk_data] Downloading package rslp to /root/nltk_data...\n",
            "[nltk_data]   Unzipping stemmers/rslp.zip.\n"
          ],
          "name": "stdout"
        },
        {
          "output_type": "execute_result",
          "data": {
            "text/plain": [
              "True"
            ]
          },
          "metadata": {
            "tags": []
          },
          "execution_count": 10
        }
      ]
    },
    {
      "cell_type": "code",
      "metadata": {
        "id": "kwBoa1rJyofq",
        "colab_type": "code",
        "colab": {
          "base_uri": "https://localhost:8080/",
          "height": 85
        },
        "outputId": "f228bd0f-5ca0-4873-f6bc-11bfc1581a86"
      },
      "source": [
        "#gerado o stem atraves do nltk\n",
        "ps= PorterStemmer()\n",
        "stemmer = RSLPStemmer()\n",
        "\n",
        "print(ps.stem('Buceta'))\n",
        "print(stemmer.stem('Xbox'))\n",
        "print(stemmer.stem('tatiane'))\n",
        "print(stemmer.stem('celular'))"
      ],
      "execution_count": 13,
      "outputs": [
        {
          "output_type": "stream",
          "text": [
            "buceta\n",
            "xbox\n",
            "tatian\n",
            "celul\n"
          ],
          "name": "stdout"
        }
      ]
    },
    {
      "cell_type": "code",
      "metadata": {
        "id": "a6WjOHkd1lGb",
        "colab_type": "code",
        "colab": {
          "base_uri": "https://localhost:8080/",
          "height": 54
        },
        "outputId": "8f7582db-52d3-4ae0-add0-1decb94212a0"
      },
      "source": [
        "from nltk.stem import SnowballStemmer #mais indicado para a lingua portuguesa \n",
        "print ('Linguagens suportadas %s', SnowballStemmer.languages)"
      ],
      "execution_count": 14,
      "outputs": [
        {
          "output_type": "stream",
          "text": [
            "Linguagens suportadas %s ('arabic', 'danish', 'dutch', 'english', 'finnish', 'french', 'german', 'hungarian', 'italian', 'norwegian', 'porter', 'portuguese', 'romanian', 'russian', 'spanish', 'swedish')\n"
          ],
          "name": "stdout"
        }
      ]
    },
    {
      "cell_type": "code",
      "metadata": {
        "id": "-2JXVfFHIJBQ",
        "colab_type": "code",
        "colab": {
          "base_uri": "https://localhost:8080/",
          "height": 68
        },
        "outputId": "fafaa8d7-cb94-444a-8cd1-fa4e1d4d372f"
      },
      "source": [
        "ss = SnowballStemmer(\"portuguese\")\n",
        "print(ss.stem(\"casadinho\"))\n",
        "print(ss.stem(\"casarão\"))\n",
        "print(ss.stem('casa'))"
      ],
      "execution_count": 16,
      "outputs": [
        {
          "output_type": "stream",
          "text": [
            "casadinh\n",
            "cas\n",
            "cas\n"
          ],
          "name": "stdout"
        }
      ]
    },
    {
      "cell_type": "markdown",
      "metadata": {
        "id": "IK3hlJzbO7zp",
        "colab_type": "text"
      },
      "source": [
        "***************Exemplos de Bag of Words*****************\n"
      ]
    },
    {
      "cell_type": "code",
      "metadata": {
        "id": "tSmlxvLHPIoT",
        "colab_type": "code",
        "colab": {}
      },
      "source": [
        "sentenca = \"O Igti Oferece especialização em Deep Learning que é utulizado em diversas aplicações. As aplicacoes de Deep learning sao estudadas nesta especializacao. O IGTI também oferece excelentes Bootcamps por miseros R$ 100,00 da para comprar com dinheiro de Action figure \""
      ],
      "execution_count": 17,
      "outputs": []
    },
    {
      "cell_type": "code",
      "metadata": {
        "id": "tYqFi0ojP6B9",
        "colab_type": "code",
        "colab": {
          "base_uri": "https://localhost:8080/",
          "height": 54
        },
        "outputId": "6094ea31-63d5-473d-b85f-3f5f759fbcc1"
      },
      "source": [
        "#coloca toda a sentença em lower case\n",
        "sentenca = sentenca.lower()\n",
        "print (sentenca)"
      ],
      "execution_count": 19,
      "outputs": [
        {
          "output_type": "stream",
          "text": [
            "o igti oferece especialização em deep learning que é utulizado em diversas aplicações. as aplicacoes de deep learning sao estudadas nesta especializacao. o igti também oferece excelentes bootcamps por miseros r$ 100,00 da para comprar com dinheiro de action figure \n"
          ],
          "name": "stdout"
        }
      ]
    },
    {
      "cell_type": "code",
      "metadata": {
        "id": "0k3yitKxQLjO",
        "colab_type": "code",
        "colab": {
          "base_uri": "https://localhost:8080/",
          "height": 102
        },
        "outputId": "3af14cb3-dec2-417d-c4bb-783d125b76ef"
      },
      "source": [
        "#tokenizaçãoda sentença \n",
        "tokenizacao_sentencas = nltk.sent_tokenize\n",
        "sample_sentence = tokenizacao_sentencas(text=sentenca)\n",
        "pprint(sample_sentence)"
      ],
      "execution_count": 20,
      "outputs": [
        {
          "output_type": "stream",
          "text": [
            "['o igti oferece especialização em deep learning que é utulizado em diversas '\n",
            " 'aplicações.',\n",
            " 'as aplicacoes de deep learning sao estudadas nesta especializacao.',\n",
            " 'o igti também oferece excelentes bootcamps por miseros r$ 100,00 da para '\n",
            " 'comprar com dinheiro de action figure']\n"
          ],
          "name": "stdout"
        }
      ]
    },
    {
      "cell_type": "code",
      "metadata": {
        "id": "sW9WWBk5Qubt",
        "colab_type": "code",
        "colab": {
          "base_uri": "https://localhost:8080/",
          "height": 35
        },
        "outputId": "971aa4cb-7ac3-40fd-98c6-8e4254e5eb1f"
      },
      "source": [
        "sample_sentence[0] #seleciona a primeira sentença \n"
      ],
      "execution_count": 21,
      "outputs": [
        {
          "output_type": "execute_result",
          "data": {
            "application/vnd.google.colaboratory.intrinsic+json": {
              "type": "string"
            },
            "text/plain": [
              "'o igti oferece especialização em deep learning que é utulizado em diversas aplicações.'"
            ]
          },
          "metadata": {
            "tags": []
          },
          "execution_count": 21
        }
      ]
    },
    {
      "cell_type": "code",
      "metadata": {
        "id": "plKzZ3m_RF8N",
        "colab_type": "code",
        "colab": {}
      },
      "source": [
        "#tokenização de palavras \n",
        "tokenizacao_palavras=nltk.word_tokenize\n",
        "list_words=[]\n",
        "for i in range(len(sample_sentence)):\n",
        "  sample_words = tokenizacao_palavras(text=sample_sentence[i])\n",
        "  list_words.extend(sample_words)"
      ],
      "execution_count": 22,
      "outputs": []
    },
    {
      "cell_type": "code",
      "metadata": {
        "id": "ttbvqZUuR65E",
        "colab_type": "code",
        "colab": {
          "base_uri": "https://localhost:8080/",
          "height": 54
        },
        "outputId": "ebd56265-3433-4d81-9c1c-d6ba34261329"
      },
      "source": [
        "print(list_words) #corpus a ser analisado"
      ],
      "execution_count": 23,
      "outputs": [
        {
          "output_type": "stream",
          "text": [
            "['o', 'igti', 'oferece', 'especialização', 'em', 'deep', 'learning', 'que', 'é', 'utulizado', 'em', 'diversas', 'aplicações', '.', 'as', 'aplicacoes', 'de', 'deep', 'learning', 'sao', 'estudadas', 'nesta', 'especializacao', '.', 'o', 'igti', 'também', 'oferece', 'excelentes', 'bootcamps', 'por', 'miseros', 'r', '$', '100,00', 'da', 'para', 'comprar', 'com', 'dinheiro', 'de', 'action', 'figure']\n"
          ],
          "name": "stdout"
        }
      ]
    },
    {
      "cell_type": "code",
      "metadata": {
        "id": "YGU3ZgZqSO2n",
        "colab_type": "code",
        "colab": {}
      },
      "source": [
        "#tokeniza palavras \n",
        "def tokenizaPalavras (sentenca):\n",
        "  sample_words = tokenizacao_palavras(text=sentenca)\n",
        "  return sample_words"
      ],
      "execution_count": 29,
      "outputs": []
    },
    {
      "cell_type": "code",
      "metadata": {
        "id": "u1557IVvSnkV",
        "colab_type": "code",
        "colab": {
          "base_uri": "https://localhost:8080/",
          "height": 54
        },
        "outputId": "325915c5-c1aa-44f5-c011-dd1ffb157034"
      },
      "source": [
        "#removendo list of words e criando o BOW (Bio weapon <-- ester egg) Bag of words\n",
        "def removeStopWords(list_of_words):\n",
        "  my_stop_words=['o,','em','as','de','sao','nesta', ',','e','a','na','do']#cria a lista de stopwords\n",
        "  list_cleaned = set(list_words)-set(my_stop_words)\n",
        "  return list_cleaned\n",
        "my_bow = removeStopWords(list_words)\n",
        "print (my_bow)"
      ],
      "execution_count": 30,
      "outputs": [
        {
          "output_type": "stream",
          "text": [
            "{'figure', '$', 'aplicacoes', 'comprar', 'bootcamps', 'miseros', 'oferece', 'learning', 'action', '.', 'estudadas', 'por', 'especializacao', 'aplicações', 'dinheiro', 'diversas', 'utulizado', '100,00', 'r', 'excelentes', 'é', 'com', 'deep', 'também', 'o', 'que', 'especialização', 'igti', 'da', 'para'}\n"
          ],
          "name": "stdout"
        }
      ]
    },
    {
      "cell_type": "code",
      "metadata": {
        "id": "szQc3Dc1UKWD",
        "colab_type": "code",
        "colab": {}
      },
      "source": [
        "#cria o vetor que representa a sentença na Bow\n",
        "def bagofWords(sentence, words):\n",
        "  sentence_words = tokenizaPalavras(sentence)\n",
        "  bag = np.zeros(len(words))#conta a frequencia de palavras que estão no vetor do Bow \n",
        "  for sw in sentence_words:\n",
        "    for i,word in enumerate(words):\n",
        "      if word == sw:\n",
        "        bag[i] +=1\n",
        "\n",
        "  return np.array(bag)"
      ],
      "execution_count": 31,
      "outputs": []
    },
    {
      "cell_type": "code",
      "metadata": {
        "id": "fGvS9apVXqb5",
        "colab_type": "code",
        "colab": {
          "base_uri": "https://localhost:8080/",
          "height": 51
        },
        "outputId": "25782e51-7d45-4cfe-9917-fc02a9673181"
      },
      "source": [
        "sentenca_teste= 'o igti oferece especializacao em deep learning e o igti oferece bootcamp mais baratos que comprar actions figures'\n",
        "print(bagofWords(sentenca_teste, my_bow))"
      ],
      "execution_count": 32,
      "outputs": [
        {
          "output_type": "stream",
          "text": [
            "[0. 0. 0. 1. 0. 0. 2. 1. 0. 0. 0. 0. 1. 0. 0. 0. 0. 0. 0. 0. 0. 0. 1. 0.\n",
            " 2. 1. 0. 2. 0. 0.]\n"
          ],
          "name": "stdout"
        }
      ]
    },
    {
      "cell_type": "code",
      "metadata": {
        "id": "7KTiLnDaYO9i",
        "colab_type": "code",
        "colab": {}
      },
      "source": [
        ""
      ],
      "execution_count": null,
      "outputs": []
    },
    {
      "cell_type": "code",
      "metadata": {
        "id": "zh7AYo84QGJ3",
        "colab_type": "code",
        "colab": {}
      },
      "source": [
        ""
      ],
      "execution_count": null,
      "outputs": []
    },
    {
      "cell_type": "code",
      "metadata": {
        "id": "zY9Bc758JBac",
        "colab_type": "code",
        "colab": {}
      },
      "source": [
        ""
      ],
      "execution_count": null,
      "outputs": []
    },
    {
      "cell_type": "code",
      "metadata": {
        "id": "c7cl_FBO1iWU",
        "colab_type": "code",
        "colab": {}
      },
      "source": [
        ""
      ],
      "execution_count": null,
      "outputs": []
    },
    {
      "cell_type": "code",
      "metadata": {
        "id": "cQCFGeCn1fDR",
        "colab_type": "code",
        "colab": {}
      },
      "source": [
        ""
      ],
      "execution_count": null,
      "outputs": []
    }
  ]
}