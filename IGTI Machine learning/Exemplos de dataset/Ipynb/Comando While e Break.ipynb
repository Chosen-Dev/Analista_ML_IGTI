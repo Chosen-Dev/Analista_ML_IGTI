{
 "cells": [
  {
   "cell_type": "code",
   "execution_count": 4,
   "metadata": {},
   "outputs": [
    {
     "name": "stdout",
     "output_type": "stream",
     "text": [
      "Quero cagar\n",
      "Quero cagar\n",
      "Quero cagar\n",
      "Quero cagar\n",
      "Quero cagar\n",
      "Quero cagar\n",
      "Quero cagar\n",
      "Quero cagar\n",
      "Me caguei\n"
     ]
    }
   ],
   "source": [
    "import time\n",
    "banheiro = 0\n",
    "while banheiro < 10:\n",
    "    print (\"Quero cagar\")\n",
    "    banheiro = banheiro + 1\n",
    "    if banheiro == 8:\n",
    "        break #Quebra o codigo e o obriga a parar \n",
    "    time.sleep(1) #faz com que o codigo espere um minuto para executar novamente\n",
    "print(\"Me caguei\")"
   ]
  },
  {
   "cell_type": "code",
   "execution_count": 6,
   "metadata": {},
   "outputs": [
    {
     "name": "stdout",
     "output_type": "stream",
     "text": [
      "Digite um numero:10\n",
      "10! = 3628800\n"
     ]
    }
   ],
   "source": [
    "numero = int(input('Digite um numero:'))\n",
    "fatorial= numero \n",
    "contador = 1 \n",
    "while (numero - contador )>1:\n",
    "    fatorial= fatorial*(numero-contador)\n",
    "    contador += 1\n",
    "print('{0}! = {1}' .format(numero,fatorial))"
   ]
  },
  {
   "cell_type": "code",
   "execution_count": null,
   "metadata": {},
   "outputs": [],
   "source": []
  },
  {
   "cell_type": "code",
   "execution_count": null,
   "metadata": {},
   "outputs": [],
   "source": []
  }
 ],
 "metadata": {
  "kernelspec": {
   "display_name": "Python 3",
   "language": "python",
   "name": "python3"
  },
  "language_info": {
   "codemirror_mode": {
    "name": "ipython",
    "version": 3
   },
   "file_extension": ".py",
   "mimetype": "text/x-python",
   "name": "python",
   "nbconvert_exporter": "python",
   "pygments_lexer": "ipython3",
   "version": "3.7.6"
  }
 },
 "nbformat": 4,
 "nbformat_minor": 4
}
