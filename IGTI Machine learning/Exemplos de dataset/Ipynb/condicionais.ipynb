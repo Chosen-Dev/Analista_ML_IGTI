{
 "cells": [
  {
   "cell_type": "code",
   "execution_count": 4,
   "metadata": {},
   "outputs": [
    {
     "name": "stdout",
     "output_type": "stream",
     "text": [
      "possui muitas calorias\n"
     ]
    }
   ],
   "source": [
    "comida = \"chocolate\"\n",
    "if comida == \"chocolate\":\n",
    "    print(\"possui muitas calorias\")"
   ]
  },
  {
   "cell_type": "code",
   "execution_count": 5,
   "metadata": {},
   "outputs": [
    {
     "name": "stdout",
     "output_type": "stream",
     "text": [
      "é mais gostoso ainda\n"
     ]
    }
   ],
   "source": [
    "comida = \"pudim\"\n",
    "if comida == \"chocolate\":\n",
    "    print(\"possui muitas calorias\")\n",
    "else: \n",
    "    print(\"é mais gostoso ainda\")"
   ]
  },
  {
   "cell_type": "code",
   "execution_count": 9,
   "metadata": {},
   "outputs": [
    {
     "name": "stdout",
     "output_type": "stream",
     "text": [
      "cai dentro\n"
     ]
    }
   ],
   "source": [
    "comida = \"vagina\"\n",
    "if comida == \"chocolate\":\n",
    "    print(\"possui muitas calorias\")\n",
    "elif comida == \"abobora\":\n",
    "    print(\"Girimum\")\n",
    "elif comida == \"vagina\":\n",
    "    print (\"cai dentro\")\n",
    "else:\n",
    "    print(\"vai tomar no cú\")"
   ]
  },
  {
   "cell_type": "code",
   "execution_count": 20,
   "metadata": {},
   "outputs": [
    {
     "name": "stdout",
     "output_type": "stream",
     "text": [
      "Qual é a sua idade10\n",
      "Muito novo vai estudar carai\n"
     ]
    }
   ],
   "source": [
    "idade = int(input(\"Qual é a sua idade\"))\n",
    "if (idade >= 18):\n",
    "    print (\"Vc já é de Maior Vagabundo vai trabalhar\")\n",
    "elif (idade >= 15):\n",
    "    print (\"Vc já pode buscar uns bicos mais é melhor estudar\")\n",
    "elif (idade == 14):\n",
    "    print(\"Vai bater punheta e jogar video game\")\n",
    "else:\n",
    "    print(\"Muito novo vai estudar carai\")\n",
    "    "
   ]
  },
  {
   "cell_type": "code",
   "execution_count": 34,
   "metadata": {},
   "outputs": [
    {
     "name": "stdout",
     "output_type": "stream",
     "text": [
      "Em que ano vc nasceu? 1850\n",
      "Vc estava no Titanic?\n"
     ]
    }
   ],
   "source": [
    "ano = int(input(\"Em que ano vc nasceu? \"))\n",
    "idade = 2020 - ano\n",
    "if idade == 18:\n",
    "    print(\"Vc acabou de se tornar Adulto vai trabalhar\")\n",
    "elif idade == 100:\n",
    "    print (\"Carai vc é Japonês?\")\n",
    "elif idade >= 120:\n",
    "    print (\"Vc estava no Titanic?\")\n",
    "elif idade >= 150:\n",
    "    print (\"Sinto informar mais vc já morreu\")\n",
    "else:\n",
    "    print(\"Vc ainda não é de maior\")"
   ]
  },
  {
   "cell_type": "code",
   "execution_count": null,
   "metadata": {},
   "outputs": [],
   "source": []
  },
  {
   "cell_type": "markdown",
   "metadata": {},
   "source": [
    "# "
   ]
  }
 ],
 "metadata": {
  "kernelspec": {
   "display_name": "Python 3",
   "language": "python",
   "name": "python3"
  },
  "language_info": {
   "codemirror_mode": {
    "name": "ipython",
    "version": 3
   },
   "file_extension": ".py",
   "mimetype": "text/x-python",
   "name": "python",
   "nbconvert_exporter": "python",
   "pygments_lexer": "ipython3",
   "version": "3.7.6"
  }
 },
 "nbformat": 4,
 "nbformat_minor": 4
}
