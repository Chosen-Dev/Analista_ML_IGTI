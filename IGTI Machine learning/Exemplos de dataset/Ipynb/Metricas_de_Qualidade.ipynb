{
  "nbformat": 4,
  "nbformat_minor": 0,
  "metadata": {
    "colab": {
      "name": "Metricas_de_Qualidade",
      "provenance": [],
      "collapsed_sections": []
    },
    "kernelspec": {
      "name": "python3",
      "display_name": "Python 3"
    }
  },
  "cells": [
    {
      "cell_type": "code",
      "metadata": {
        "id": "FxfUeJAObwCU",
        "colab_type": "code",
        "colab": {}
      },
      "source": [
        "import matplotlib.pyplot as plt\n",
        "import numpy as np\n",
        "from sklearn import datasets, linear_model\n",
        "from sklearn.metrics import mean_squared_error, median_absolute_error\n",
        "from sklearn.model_selection import train_test_split\n",
        "from sklearn.decomposition import PCA"
      ],
      "execution_count": null,
      "outputs": []
    },
    {
      "cell_type": "code",
      "metadata": {
        "id": "j_MUqavAcjzb",
        "colab_type": "code",
        "colab": {
          "base_uri": "https://localhost:8080/",
          "height": 34
        },
        "outputId": "cb3bb305-df1c-4238-bf93-34dfd8dcc298"
      },
      "source": [
        "iris = datasets.load_iris()\n",
        "x = iris.data[:, :2] # pegamos as primeiras duas features aqui. Pegue as outras se quiser.\n",
        "y = iris.target\n",
        "y[0] # classe do primeiro elemento\n",
        "X[:1, :] # primeiro elemento a classificar"
      ],
      "execution_count": null,
      "outputs": [
        {
          "output_type": "execute_result",
          "data": {
            "text/plain": [
              "array([[5.1, 3.5]])"
            ]
          },
          "metadata": {
            "tags": []
          },
          "execution_count": 7
        }
      ]
    },
    {
      "cell_type": "code",
      "metadata": {
        "id": "0Ef17UzGdN5M",
        "colab_type": "code",
        "colab": {}
      },
      "source": [
        "#Separe os dados para testar\n",
        "x_train, x_test, y_train, y_test = train_test_split(x,y, test_size= 0.20, random_state=42) "
      ],
      "execution_count": null,
      "outputs": []
    },
    {
      "cell_type": "code",
      "metadata": {
        "id": "ejCxj1dheD5c",
        "colab_type": "code",
        "colab": {}
      },
      "source": [
        "#intancie \n",
        "regr = linear_model.LinearRegression()"
      ],
      "execution_count": null,
      "outputs": []
    },
    {
      "cell_type": "code",
      "metadata": {
        "id": "TR5pYpgoeOcd",
        "colab_type": "code",
        "colab": {
          "base_uri": "https://localhost:8080/",
          "height": 34
        },
        "outputId": "a9ab7be0-c23e-4134-9984-4d7e29211849"
      },
      "source": [
        "#treine o modelo \n",
        "regr.fit(x_train, y_train)"
      ],
      "execution_count": null,
      "outputs": [
        {
          "output_type": "execute_result",
          "data": {
            "text/plain": [
              "LinearRegression(copy_X=True, fit_intercept=True, n_jobs=None, normalize=False)"
            ]
          },
          "metadata": {
            "tags": []
          },
          "execution_count": 10
        }
      ]
    },
    {
      "cell_type": "code",
      "metadata": {
        "id": "rEG37StaeZYw",
        "colab_type": "code",
        "colab": {}
      },
      "source": [
        "#teste o modelo treinado\n",
        "y_pred= regr.predict(x_test)"
      ],
      "execution_count": null,
      "outputs": []
    },
    {
      "cell_type": "code",
      "metadata": {
        "id": "Kpu-8I8peukt",
        "colab_type": "code",
        "colab": {
          "base_uri": "https://localhost:8080/",
          "height": 52
        },
        "outputId": "ceef1a91-5ec7-4c63-f07f-8e34b1616634"
      },
      "source": [
        "#metricas de qualidade\n",
        "print ('Erro médio quadratico: %.2f' % mean_squared_error(y_test, y_pred))\n",
        "\n",
        "print('Erro mediano absoluto: %.2f' % median_absolute_error(y_test, y_pred))"
      ],
      "execution_count": null,
      "outputs": [
        {
          "output_type": "stream",
          "text": [
            "Erro médio quadratico: 0.17\n",
            "Erro mediano absoluto: 0.31\n"
          ],
          "name": "stdout"
        }
      ]
    },
    {
      "cell_type": "markdown",
      "metadata": {
        "id": "iOpXe6i2pR81",
        "colab_type": "text"
      },
      "source": [
        ""
      ]
    },
    {
      "cell_type": "markdown",
      "metadata": {
        "id": "VaIxFouwpUbU",
        "colab_type": "text"
      },
      "source": [
        "***Metricas de Qualidade KNN e Ramdow Forest negrito***"
      ]
    },
    {
      "cell_type": "code",
      "metadata": {
        "id": "r73FUMaVqFsi",
        "colab_type": "code",
        "colab": {}
      },
      "source": [
        "#carregando o DataSet\n",
        "from sklearn.datasets import load_iris\n",
        "iris = load_iris()\n"
      ],
      "execution_count": null,
      "outputs": []
    },
    {
      "cell_type": "code",
      "metadata": {
        "id": "iesdmiKcPK82",
        "colab_type": "code",
        "colab": {}
      },
      "source": [
        ""
      ],
      "execution_count": null,
      "outputs": []
    },
    {
      "cell_type": "code",
      "metadata": {
        "id": "Q00Y2_0HqXd4",
        "colab_type": "code",
        "colab": {}
      },
      "source": [
        "#exemplos de acesso aos dados \n",
        "x = iris.data[:,:2]#feature de cada elemento\n",
        "y = iris.target #Classes de cada elemento "
      ],
      "execution_count": null,
      "outputs": []
    },
    {
      "cell_type": "code",
      "metadata": {
        "id": "Ntw2rl3TaTzn",
        "colab_type": "code",
        "colab": {}
      },
      "source": [
        ""
      ],
      "execution_count": null,
      "outputs": []
    },
    {
      "cell_type": "code",
      "metadata": {
        "id": "o3cHwlPdq4uV",
        "colab_type": "code",
        "colab": {}
      },
      "source": [
        "#É preciso treinar o classificador, e testar o seu desempenho com dados novos \n",
        "#Aqui, dividimos os dados em treino e teste, para podermos testar nosso desempenho depois"
      ],
      "execution_count": null,
      "outputs": []
    },
    {
      "cell_type": "code",
      "metadata": {
        "id": "u0bhc2wLrTRU",
        "colab_type": "code",
        "colab": {}
      },
      "source": [
        "from sklearn.model_selection import train_test_split\n"
      ],
      "execution_count": null,
      "outputs": []
    },
    {
      "cell_type": "code",
      "metadata": {
        "id": "XN0sfxu9rbnr",
        "colab_type": "code",
        "colab": {}
      },
      "source": [
        "x_train, x_test, y_train, y_test = train_test_split(x,y, test_size=0.33, random_state=42)\n",
        "#o uso desta função ajuda mais não é obrigatorio, você pode dividir os seus dados manualmente."
      ],
      "execution_count": null,
      "outputs": []
    },
    {
      "cell_type": "code",
      "metadata": {
        "id": "R4pks3pTr-46",
        "colab_type": "code",
        "colab": {}
      },
      "source": [
        "#Carregando e treinando os classificadores \n",
        "# Random Forest \n",
        "from sklearn.ensemble import RandomForestClassifier\n",
        "rfc = RandomForestClassifier()\n",
        "rfc.fit(x_train, y_train)\n",
        "y_pred = rfc.predict(x_test)\n"
      ],
      "execution_count": null,
      "outputs": []
    },
    {
      "cell_type": "code",
      "metadata": {
        "id": "XDNHl13HtC8s",
        "colab_type": "code",
        "colab": {}
      },
      "source": [
        "#Metricas do Random Forest"
      ],
      "execution_count": null,
      "outputs": []
    },
    {
      "cell_type": "code",
      "metadata": {
        "id": "JB4FYWTvtRPm",
        "colab_type": "code",
        "colab": {}
      },
      "source": [
        "from sklearn.metrics import  accuracy_score, recall_score, precision_score, f1_score"
      ],
      "execution_count": null,
      "outputs": []
    },
    {
      "cell_type": "code",
      "metadata": {
        "id": "T0G2rCsDtcrZ",
        "colab_type": "code",
        "colab": {}
      },
      "source": [
        "rfc_acc = round(accuracy_score(y_test,y_pred), 6) #round é para arrendondar \n",
        "rcf_recall = round(recall_score(y_test, y_pred, average='weighted'),6)\n",
        "rfc_precision = round(precision_score(y_test, y_pred, average='weighted'), 6)\n",
        "rfc_fscore = round(f1_score(y_test,y_pred, average='weighted'),6)"
      ],
      "execution_count": null,
      "outputs": []
    },
    {
      "cell_type": "code",
      "metadata": {
        "id": "jkn_DDYwcW4u",
        "colab_type": "code",
        "colab": {}
      },
      "source": [
        "#Knn\n",
        "from sklearn.neighbors import KNeighborsClassifier\n",
        "knn = KNeighborsClassifier(n_neighbors=3)\n",
        "knn.fit(x_train, y_train)\n",
        "y_pred = knn.predict(x_test)"
      ],
      "execution_count": null,
      "outputs": []
    },
    {
      "cell_type": "code",
      "metadata": {
        "colab_type": "code",
        "id": "Oroa9RAGu9pz",
        "colab": {}
      },
      "source": [
        "#metricas do Knn \n",
        "knn_acc = round(accuracy_score(y_test,y_pred), 6) #round é para arrendondar \n",
        "knn_recall = round(recall_score(y_test, y_pred, average='weighted'),6)\n",
        "knn_precision = round(precision_score(y_test, y_pred, average='weighted'), 6)\n",
        "knn_fscore = round(f1_score(y_test,y_pred, average='weighted'),6)"
      ],
      "execution_count": null,
      "outputs": []
    },
    {
      "cell_type": "code",
      "metadata": {
        "id": "5QMtss2ivIir",
        "colab_type": "code",
        "colab": {
          "base_uri": "https://localhost:8080/",
          "height": 158
        },
        "outputId": "837e0b14-3077-4ba8-9265-7758db22a80e"
      },
      "source": [
        "#Comparação \n",
        "print(\"Knn vs Random Forest\\n\")\n",
        "print(\"Classes: {0}\\n\".format(iris.target_names))\n",
        "print(\"Acuracia:{0} vs {1}\".format(knn_acc, rfc_acc))\n",
        "print(\"Recall: {0} vs {1}\".format(knn_recall, rcf_recall))\n",
        "print(\"Precisão: {0} vs {1}\".format(knn_precision, rfc_precision)) \n",
        "print(\"Fscore: {0} vs {1}\".format(knn_fscore, rfc_fscore)) "
      ],
      "execution_count": null,
      "outputs": [
        {
          "output_type": "stream",
          "text": [
            "Knn vs Random Forest\n",
            "\n",
            "Classes: ['setosa' 'versicolor' 'virginica']\n",
            "\n",
            "Acuracia:0.76 vs 0.76\n",
            "Recall: 0.76 vs 0.76\n",
            "Precisão: 0.760171 vs 0.760171\n",
            "Fscore: 0.758487 vs 0.758487\n"
          ],
          "name": "stdout"
        }
      ]
    },
    {
      "cell_type": "code",
      "metadata": {
        "id": "DVNomg4E228B",
        "colab_type": "code",
        "colab": {
          "base_uri": "https://localhost:8080/",
          "height": 238
        },
        "outputId": "497d8ba9-090f-4b7a-f456-7f61fe55a02b"
      },
      "source": [
        "#RFC\n",
        "parameters = {'n_estimators': [5, 300]}\n",
        "rfc_hps = GridSearchCV(rfc, parameters)\n",
        "rfc_hps.fit(x,y)\n",
        "print (\"Melhor valor para n_estimators: {0}\".format(rfc_hps.best_params_['n_estimators']))"
      ],
      "execution_count": null,
      "outputs": [
        {
          "output_type": "error",
          "ename": "NameError",
          "evalue": "ignored",
          "traceback": [
            "\u001b[0;31m---------------------------------------------------------------------------\u001b[0m",
            "\u001b[0;31mNameError\u001b[0m                                 Traceback (most recent call last)",
            "\u001b[0;32m<ipython-input-35-5fa8207eb60d>\u001b[0m in \u001b[0;36m<module>\u001b[0;34m()\u001b[0m\n\u001b[1;32m      1\u001b[0m \u001b[0;31m#RFC\u001b[0m\u001b[0;34m\u001b[0m\u001b[0;34m\u001b[0m\u001b[0;34m\u001b[0m\u001b[0m\n\u001b[1;32m      2\u001b[0m \u001b[0mparameters\u001b[0m \u001b[0;34m=\u001b[0m \u001b[0;34m{\u001b[0m\u001b[0;34m'n_estimators'\u001b[0m\u001b[0;34m:\u001b[0m \u001b[0;34m[\u001b[0m\u001b[0;36m5\u001b[0m\u001b[0;34m,\u001b[0m \u001b[0;36m300\u001b[0m\u001b[0;34m]\u001b[0m\u001b[0;34m}\u001b[0m\u001b[0;34m\u001b[0m\u001b[0;34m\u001b[0m\u001b[0m\n\u001b[0;32m----> 3\u001b[0;31m \u001b[0mrfc_hps\u001b[0m \u001b[0;34m=\u001b[0m \u001b[0mGridSearchCV\u001b[0m\u001b[0;34m(\u001b[0m\u001b[0mrfc\u001b[0m\u001b[0;34m,\u001b[0m \u001b[0mparameters\u001b[0m\u001b[0;34m)\u001b[0m\u001b[0;34m\u001b[0m\u001b[0;34m\u001b[0m\u001b[0m\n\u001b[0m\u001b[1;32m      4\u001b[0m \u001b[0mrfc_hps\u001b[0m\u001b[0;34m.\u001b[0m\u001b[0mfit\u001b[0m\u001b[0;34m(\u001b[0m\u001b[0mx\u001b[0m\u001b[0;34m,\u001b[0m\u001b[0my\u001b[0m\u001b[0;34m)\u001b[0m\u001b[0;34m\u001b[0m\u001b[0;34m\u001b[0m\u001b[0m\n\u001b[1;32m      5\u001b[0m \u001b[0mprint\u001b[0m \u001b[0;34m(\u001b[0m\u001b[0;34m\"Melhor valor para n_estimators: {0}\"\u001b[0m\u001b[0;34m.\u001b[0m\u001b[0mformat\u001b[0m\u001b[0;34m(\u001b[0m\u001b[0mrfc_hps\u001b[0m\u001b[0;34m.\u001b[0m\u001b[0mbest_params_\u001b[0m\u001b[0;34m[\u001b[0m\u001b[0;34m'n_estimators'\u001b[0m\u001b[0;34m]\u001b[0m\u001b[0;34m)\u001b[0m\u001b[0;34m)\u001b[0m\u001b[0;34m\u001b[0m\u001b[0;34m\u001b[0m\u001b[0m\n",
            "\u001b[0;31mNameError\u001b[0m: name 'GridSearchCV' is not defined"
          ]
        }
      ]
    },
    {
      "cell_type": "code",
      "metadata": {
        "id": "6SfdHvd6xeqN",
        "colab_type": "code",
        "colab": {
          "base_uri": "https://localhost:8080/",
          "height": 52
        },
        "outputId": "47464315-2100-482d-b734-25269c1b8051"
      },
      "source": [
        "#Na validação Cruzada \n",
        "from sklearn.model_selection import cross_val_score\n",
        "cv_rfc = cross_val_score(rfc, x, y)\n",
        "cv_knn = cross_val_score(knn, x, y)\n",
        "print(\"\\nValidação cruzada: {0} vs {1}\".format(cv_knn, cv_rfc))"
      ],
      "execution_count": null,
      "outputs": [
        {
          "output_type": "stream",
          "text": [
            "\n",
            "Validação cruzada: [0.69444444 0.77777778 0.88888889 0.77142857 0.65714286] vs [0.66666667 0.83333333 0.83333333 0.62857143 0.74285714]\n"
          ],
          "name": "stdout"
        }
      ]
    },
    {
      "cell_type": "code",
      "metadata": {
        "id": "kWcMIyoZy6N2",
        "colab_type": "code",
        "colab": {
          "base_uri": "https://localhost:8080/",
          "height": 52
        },
        "outputId": "0f47c058-0dec-4242-fd00-6bcc5d503af6"
      },
      "source": [
        "sum_cv_rfc = 0 \n",
        "for cv_score in cv_rfc:\n",
        "  sum_cv_rfc += cv_score \n",
        "\n",
        "print(\"\\nResultado Random Forest {0}\".format(sum_cv_rfc/5))\n",
        "\n",
        "\n",
        "\n"
      ],
      "execution_count": null,
      "outputs": [
        {
          "output_type": "stream",
          "text": [
            "\n",
            "Resultado Random Forest 0.740952380952381\n"
          ],
          "name": "stdout"
        }
      ]
    },
    {
      "cell_type": "code",
      "metadata": {
        "colab_type": "code",
        "id": "7oGEd9YH0F7z",
        "colab": {
          "base_uri": "https://localhost:8080/",
          "height": 52
        },
        "outputId": "8c117e99-a28d-4f9d-8aab-896c0efb7666"
      },
      "source": [
        "sum_cv_knn = 0 \n",
        "for cv_score in cv_knn:\n",
        "  sum_cv_knn += cv_score \n",
        "\n",
        "print(\"\\nResultado KNN {0}\".format(sum_cv_knn/5))"
      ],
      "execution_count": null,
      "outputs": [
        {
          "output_type": "stream",
          "text": [
            "\n",
            "Resultado KNN 0.7579365079365079\n"
          ],
          "name": "stdout"
        }
      ]
    },
    {
      "cell_type": "markdown",
      "metadata": {
        "id": "ObWX4fa52i7z",
        "colab_type": "text"
      },
      "source": [
        "# ***Buscando Hiper Parametros ***"
      ]
    },
    {
      "cell_type": "code",
      "metadata": {
        "id": "EISO1A8hwnZd",
        "colab_type": "code",
        "colab": {}
      },
      "source": [
        "from sklearn.model_selection import GridSearchCV"
      ],
      "execution_count": null,
      "outputs": []
    },
    {
      "cell_type": "code",
      "metadata": {
        "id": "w4kAzcU_Tdz7",
        "colab_type": "code",
        "colab": {}
      },
      "source": [
        ""
      ],
      "execution_count": null,
      "outputs": []
    },
    {
      "cell_type": "code",
      "metadata": {
        "id": "LKG9Vm5KTQIO",
        "colab_type": "code",
        "colab": {}
      },
      "source": [
        ""
      ],
      "execution_count": null,
      "outputs": []
    },
    {
      "cell_type": "code",
      "metadata": {
        "id": "zsCYQCpITIb1",
        "colab_type": "code",
        "colab": {}
      },
      "source": [
        ""
      ],
      "execution_count": null,
      "outputs": []
    },
    {
      "cell_type": "code",
      "metadata": {
        "id": "LaX35YVRTCqV",
        "colab_type": "code",
        "colab": {}
      },
      "source": [
        ""
      ],
      "execution_count": null,
      "outputs": []
    },
    {
      "cell_type": "code",
      "metadata": {
        "id": "P-BkwiSuSquN",
        "colab_type": "code",
        "colab": {}
      },
      "source": [
        ""
      ],
      "execution_count": null,
      "outputs": []
    },
    {
      "cell_type": "code",
      "metadata": {
        "id": "_m1H_kpXSdbV",
        "colab_type": "code",
        "colab": {}
      },
      "source": [
        ""
      ],
      "execution_count": null,
      "outputs": []
    },
    {
      "cell_type": "code",
      "metadata": {
        "id": "sUncfEPsSDog",
        "colab_type": "code",
        "colab": {}
      },
      "source": [
        ""
      ],
      "execution_count": null,
      "outputs": []
    },
    {
      "cell_type": "code",
      "metadata": {
        "colab_type": "code",
        "id": "Th2GLZ994HVO",
        "colab": {
          "base_uri": "https://localhost:8080/",
          "height": 34
        },
        "outputId": "1718b086-43d5-439a-b73d-5841c5da3238"
      },
      "source": [
        "#Knn\n",
        "parameters = {'n_neighbors':(1,20)}\n",
        "knn_hps = GridSearchCV(knn, parameters)\n",
        "knn_hps.fit(x,y)\n",
        "knn_hps.best_params_['n_neighbors']\n",
        "print (\"Melhor valor para n_neighbors: {0}\".format(knn_hps.best_params_['n_neighbors']))"
      ],
      "execution_count": null,
      "outputs": [
        {
          "output_type": "stream",
          "text": [
            "Melhor valor para n_neighbors: 20\n"
          ],
          "name": "stdout"
        }
      ]
    },
    {
      "cell_type": "code",
      "metadata": {
        "id": "FKhgrTFZ42w2",
        "colab_type": "code",
        "colab": {}
      },
      "source": [
        ""
      ],
      "execution_count": null,
      "outputs": []
    },
    {
      "cell_type": "code",
      "metadata": {
        "id": "8Ci6NI0C4tu0",
        "colab_type": "code",
        "colab": {}
      },
      "source": [
        ""
      ],
      "execution_count": null,
      "outputs": []
    },
    {
      "cell_type": "code",
      "metadata": {
        "id": "Zs1eWF5ac8GJ",
        "colab_type": "code",
        "colab": {}
      },
      "source": [
        "#Separamos uma feature para usar \n",
        "x = x[:, np.newaxis, 2]"
      ],
      "execution_count": null,
      "outputs": []
    }
  ]
}